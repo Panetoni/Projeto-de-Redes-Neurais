{
 "cells": [
  {
   "cell_type": "code",
   "execution_count": 1,
   "metadata": {},
   "outputs": [],
   "source": [
    "texts = [\n",
    "    \"O time venceu a partida na prorrogação!\",  # Esportes\n",
    "    \"A bolsa de valores fechou em alta hoje.\",  # Economia\n",
    "    \"Desfile de moda apresenta as novas tendências do inverno.\",  # Moda\n",
    "    \"O governo anunciou novas medidas econômicas.\",  # Economia\n",
    "    \"O campeonato de futebol está emocionante nesta temporada.\",  # Esportes\n",
    "    \"Nova coleção de roupas sustentáveis é lançada.\",  # Moda\n",
    "]\n",
    "\n",
    "labels = [0, 1, 2, 1, 0, 2]  # 0: Esportes, 1: Economia, 2: Moda\n"
   ]
  },
  {
   "cell_type": "code",
   "execution_count": 2,
   "metadata": {},
   "outputs": [
    {
     "name": "stdout",
     "output_type": "stream",
     "text": [
      "Requirement already satisfied: torch in c:\\users\\pedro parentoni\\appdata\\local\\packages\\pythonsoftwarefoundation.python.3.11_qbz5n2kfra8p0\\localcache\\local-packages\\python311\\site-packages (2.6.0)Note: you may need to restart the kernel to use updated packages.\n",
      "\n",
      "Collecting torchvision\n",
      "  Using cached torchvision-0.21.0-cp311-cp311-win_amd64.whl.metadata (6.3 kB)\n",
      "Collecting torchaudio\n",
      "  Using cached torchaudio-2.6.0-cp311-cp311-win_amd64.whl.metadata (6.7 kB)\n",
      "Requirement already satisfied: filelock in c:\\users\\pedro parentoni\\appdata\\local\\packages\\pythonsoftwarefoundation.python.3.11_qbz5n2kfra8p0\\localcache\\local-packages\\python311\\site-packages (from torch) (3.17.0)\n",
      "Requirement already satisfied: typing-extensions>=4.10.0 in c:\\users\\pedro parentoni\\appdata\\local\\packages\\pythonsoftwarefoundation.python.3.11_qbz5n2kfra8p0\\localcache\\local-packages\\python311\\site-packages (from torch) (4.12.2)\n",
      "Requirement already satisfied: networkx in c:\\users\\pedro parentoni\\appdata\\local\\packages\\pythonsoftwarefoundation.python.3.11_qbz5n2kfra8p0\\localcache\\local-packages\\python311\\site-packages (from torch) (3.3)\n",
      "Requirement already satisfied: jinja2 in c:\\users\\pedro parentoni\\appdata\\local\\packages\\pythonsoftwarefoundation.python.3.11_qbz5n2kfra8p0\\localcache\\local-packages\\python311\\site-packages (from torch) (3.1.6)\n",
      "Requirement already satisfied: fsspec in c:\\users\\pedro parentoni\\appdata\\local\\packages\\pythonsoftwarefoundation.python.3.11_qbz5n2kfra8p0\\localcache\\local-packages\\python311\\site-packages (from torch) (2025.3.0)\n",
      "Requirement already satisfied: sympy==1.13.1 in c:\\users\\pedro parentoni\\appdata\\local\\packages\\pythonsoftwarefoundation.python.3.11_qbz5n2kfra8p0\\localcache\\local-packages\\python311\\site-packages (from torch) (1.13.1)\n",
      "Requirement already satisfied: mpmath<1.4,>=1.1.0 in c:\\users\\pedro parentoni\\appdata\\local\\packages\\pythonsoftwarefoundation.python.3.11_qbz5n2kfra8p0\\localcache\\local-packages\\python311\\site-packages (from sympy==1.13.1->torch) (1.3.0)\n",
      "Requirement already satisfied: numpy in c:\\users\\pedro parentoni\\appdata\\local\\packages\\pythonsoftwarefoundation.python.3.11_qbz5n2kfra8p0\\localcache\\local-packages\\python311\\site-packages (from torchvision) (2.1.2)\n",
      "Requirement already satisfied: pillow!=8.3.*,>=5.3.0 in c:\\users\\pedro parentoni\\appdata\\local\\packages\\pythonsoftwarefoundation.python.3.11_qbz5n2kfra8p0\\localcache\\local-packages\\python311\\site-packages (from torchvision) (10.4.0)\n",
      "Requirement already satisfied: MarkupSafe>=2.0 in c:\\users\\pedro parentoni\\appdata\\local\\packages\\pythonsoftwarefoundation.python.3.11_qbz5n2kfra8p0\\localcache\\local-packages\\python311\\site-packages (from jinja2->torch) (3.0.2)\n",
      "Using cached torchvision-0.21.0-cp311-cp311-win_amd64.whl (1.6 MB)\n",
      "Using cached torchaudio-2.6.0-cp311-cp311-win_amd64.whl (2.5 MB)\n",
      "Installing collected packages: torchvision, torchaudio\n",
      "Successfully installed torchaudio-2.6.0 torchvision-0.21.0\n"
     ]
    },
    {
     "name": "stderr",
     "output_type": "stream",
     "text": [
      "\n",
      "[notice] A new release of pip is available: 24.0 -> 25.0.1\n",
      "[notice] To update, run: C:\\Users\\pedro parentoni\\AppData\\Local\\Microsoft\\WindowsApps\\PythonSoftwareFoundation.Python.3.11_qbz5n2kfra8p0\\python.exe -m pip install --upgrade pip\n"
     ]
    },
    {
     "name": "stdout",
     "output_type": "stream",
     "text": [
      "Requirement already satisfied: transformers in c:\\users\\pedro parentoni\\appdata\\local\\packages\\pythonsoftwarefoundation.python.3.11_qbz5n2kfra8p0\\localcache\\local-packages\\python311\\site-packages (4.49.0)\n",
      "Requirement already satisfied: filelock in c:\\users\\pedro parentoni\\appdata\\local\\packages\\pythonsoftwarefoundation.python.3.11_qbz5n2kfra8p0\\localcache\\local-packages\\python311\\site-packages (from transformers) (3.17.0)\n",
      "Requirement already satisfied: huggingface-hub<1.0,>=0.26.0 in c:\\users\\pedro parentoni\\appdata\\local\\packages\\pythonsoftwarefoundation.python.3.11_qbz5n2kfra8p0\\localcache\\local-packages\\python311\\site-packages (from transformers) (0.29.2)\n",
      "Requirement already satisfied: numpy>=1.17 in c:\\users\\pedro parentoni\\appdata\\local\\packages\\pythonsoftwarefoundation.python.3.11_qbz5n2kfra8p0\\localcache\\local-packages\\python311\\site-packages (from transformers) (2.1.2)\n",
      "Requirement already satisfied: packaging>=20.0 in c:\\users\\pedro parentoni\\appdata\\local\\packages\\pythonsoftwarefoundation.python.3.11_qbz5n2kfra8p0\\localcache\\local-packages\\python311\\site-packages (from transformers) (24.1)\n",
      "Requirement already satisfied: pyyaml>=5.1 in c:\\users\\pedro parentoni\\appdata\\local\\packages\\pythonsoftwarefoundation.python.3.11_qbz5n2kfra8p0\\localcache\\local-packages\\python311\\site-packages (from transformers) (6.0.2)\n",
      "Requirement already satisfied: regex!=2019.12.17 in c:\\users\\pedro parentoni\\appdata\\local\\packages\\pythonsoftwarefoundation.python.3.11_qbz5n2kfra8p0\\localcache\\local-packages\\python311\\site-packages (from transformers) (2024.11.6)\n",
      "Requirement already satisfied: requests in c:\\users\\pedro parentoni\\appdata\\local\\packages\\pythonsoftwarefoundation.python.3.11_qbz5n2kfra8p0\\localcache\\local-packages\\python311\\site-packages (from transformers) (2.32.3)\n",
      "Requirement already satisfied: tokenizers<0.22,>=0.21 in c:\\users\\pedro parentoni\\appdata\\local\\packages\\pythonsoftwarefoundation.python.3.11_qbz5n2kfra8p0\\localcache\\local-packages\\python311\\site-packages (from transformers) (0.21.0)\n",
      "Requirement already satisfied: safetensors>=0.4.1 in c:\\users\\pedro parentoni\\appdata\\local\\packages\\pythonsoftwarefoundation.python.3.11_qbz5n2kfra8p0\\localcache\\local-packages\\python311\\site-packages (from transformers) (0.5.3)\n",
      "Requirement already satisfied: tqdm>=4.27 in c:\\users\\pedro parentoni\\appdata\\local\\packages\\pythonsoftwarefoundation.python.3.11_qbz5n2kfra8p0\\localcache\\local-packages\\python311\\site-packages (from transformers) (4.67.1)\n",
      "Requirement already satisfied: fsspec>=2023.5.0 in c:\\users\\pedro parentoni\\appdata\\local\\packages\\pythonsoftwarefoundation.python.3.11_qbz5n2kfra8p0\\localcache\\local-packages\\python311\\site-packages (from huggingface-hub<1.0,>=0.26.0->transformers) (2025.3.0)\n",
      "Requirement already satisfied: typing-extensions>=3.7.4.3 in c:\\users\\pedro parentoni\\appdata\\local\\packages\\pythonsoftwarefoundation.python.3.11_qbz5n2kfra8p0\\localcache\\local-packages\\python311\\site-packages (from huggingface-hub<1.0,>=0.26.0->transformers) (4.12.2)\n",
      "Requirement already satisfied: colorama in c:\\users\\pedro parentoni\\appdata\\local\\packages\\pythonsoftwarefoundation.python.3.11_qbz5n2kfra8p0\\localcache\\local-packages\\python311\\site-packages (from tqdm>=4.27->transformers) (0.4.6)\n",
      "Requirement already satisfied: charset-normalizer<4,>=2 in c:\\users\\pedro parentoni\\appdata\\local\\packages\\pythonsoftwarefoundation.python.3.11_qbz5n2kfra8p0\\localcache\\local-packages\\python311\\site-packages (from requests->transformers) (3.4.1)\n",
      "Requirement already satisfied: idna<4,>=2.5 in c:\\users\\pedro parentoni\\appdata\\local\\packages\\pythonsoftwarefoundation.python.3.11_qbz5n2kfra8p0\\localcache\\local-packages\\python311\\site-packages (from requests->transformers) (3.10)\n",
      "Requirement already satisfied: urllib3<3,>=1.21.1 in c:\\users\\pedro parentoni\\appdata\\local\\packages\\pythonsoftwarefoundation.python.3.11_qbz5n2kfra8p0\\localcache\\local-packages\\python311\\site-packages (from requests->transformers) (2.3.0)\n",
      "Requirement already satisfied: certifi>=2017.4.17 in c:\\users\\pedro parentoni\\appdata\\local\\packages\\pythonsoftwarefoundation.python.3.11_qbz5n2kfra8p0\\localcache\\local-packages\\python311\\site-packages (from requests->transformers) (2025.1.31)\n",
      "Note: you may need to restart the kernel to use updated packages.\n"
     ]
    },
    {
     "name": "stderr",
     "output_type": "stream",
     "text": [
      "\n",
      "[notice] A new release of pip is available: 24.0 -> 25.0.1\n",
      "[notice] To update, run: C:\\Users\\pedro parentoni\\AppData\\Local\\Microsoft\\WindowsApps\\PythonSoftwareFoundation.Python.3.11_qbz5n2kfra8p0\\python.exe -m pip install --upgrade pip\n"
     ]
    }
   ],
   "source": [
    "%pip install torch torchvision torchaudio\n",
    "%pip install transformers"
   ]
  },
  {
   "cell_type": "code",
   "execution_count": 3,
   "metadata": {},
   "outputs": [
    {
     "data": {
      "application/vnd.jupyter.widget-view+json": {
       "model_id": "dc49781ace2645b48ffcc6a711a340a9",
       "version_major": 2,
       "version_minor": 0
      },
      "text/plain": [
       "pytorch_model.bin:   0%|          | 0.00/438M [00:00<?, ?B/s]"
      ]
     },
     "metadata": {},
     "output_type": "display_data"
    },
    {
     "name": "stderr",
     "output_type": "stream",
     "text": [
      "C:\\Users\\pedro parentoni\\AppData\\Local\\Packages\\PythonSoftwareFoundation.Python.3.11_qbz5n2kfra8p0\\LocalCache\\local-packages\\Python311\\site-packages\\huggingface_hub\\file_download.py:142: UserWarning: `huggingface_hub` cache-system uses symlinks by default to efficiently store duplicated files but your machine does not support them in C:\\Users\\pedro parentoni\\.cache\\huggingface\\hub\\models--neuralmind--bert-base-portuguese-cased. Caching files will still work but in a degraded version that might require more space on your disk. This warning can be disabled by setting the `HF_HUB_DISABLE_SYMLINKS_WARNING` environment variable. For more details, see https://huggingface.co/docs/huggingface_hub/how-to-cache#limitations.\n",
      "To support symlinks on Windows, you either need to activate Developer Mode or to run Python as an administrator. In order to activate developer mode, see this article: https://docs.microsoft.com/en-us/windows/apps/get-started/enable-your-device-for-development\n",
      "  warnings.warn(message)\n"
     ]
    },
    {
     "data": {
      "application/vnd.jupyter.widget-view+json": {
       "model_id": "df847f7e2fe040139f9267f76f88eb67",
       "version_major": 2,
       "version_minor": 0
      },
      "text/plain": [
       "model.safetensors:   0%|          | 0.00/438M [00:00<?, ?B/s]"
      ]
     },
     "metadata": {},
     "output_type": "display_data"
    },
    {
     "name": "stderr",
     "output_type": "stream",
     "text": [
      "Some weights of BertForSequenceClassification were not initialized from the model checkpoint at neuralmind/bert-base-portuguese-cased and are newly initialized: ['classifier.bias', 'classifier.weight']\n",
      "You should probably TRAIN this model on a down-stream task to be able to use it for predictions and inference.\n"
     ]
    }
   ],
   "source": [
    "from transformers import AutoTokenizer, AutoModelForSequenceClassification\n",
    "\n",
    "# Nome do modelo em português\n",
    "modelo_nome = \"neuralmind/bert-base-portuguese-cased\"\n",
    "\n",
    "# Número de classes (3: Esportes, Economia, Moda)\n",
    "num_classes = 3\n",
    "\n",
    "# Carregar o tokenizer\n",
    "tokenizer = AutoTokenizer.from_pretrained(modelo_nome, do_lower_case=False)\n",
    "\n",
    "# Carregar o modelo para classificação\n",
    "model = AutoModelForSequenceClassification.from_pretrained(modelo_nome, num_labels=num_classes)\n"
   ]
  },
  {
   "cell_type": "code",
   "execution_count": 4,
   "metadata": {},
   "outputs": [
    {
     "name": "stderr",
     "output_type": "stream",
     "text": [
      "Asking to truncate to max_length but no maximum length is provided and the model has no predefined maximum length. Default to no truncation.\n"
     ]
    }
   ],
   "source": [
    "import torch\n",
    "\n",
    "# Tokenizar os textos\n",
    "inputs = tokenizer(texts, padding=True, truncation=True, return_tensors=\"pt\")\n",
    "\n",
    "# Converter rótulos para tensores\n",
    "labels_tensor = torch.tensor(labels)\n"
   ]
  },
  {
   "cell_type": "code",
   "execution_count": 5,
   "metadata": {},
   "outputs": [
    {
     "name": "stderr",
     "output_type": "stream",
     "text": [
      "C:\\Users\\pedro parentoni\\AppData\\Local\\Packages\\PythonSoftwareFoundation.Python.3.11_qbz5n2kfra8p0\\LocalCache\\local-packages\\Python311\\site-packages\\transformers\\optimization.py:640: FutureWarning: This implementation of AdamW is deprecated and will be removed in a future version. Use the PyTorch implementation torch.optim.AdamW instead, or set `no_deprecation_warning=True` to disable this warning\n",
      "  warnings.warn(\n"
     ]
    },
    {
     "name": "stdout",
     "output_type": "stream",
     "text": [
      "Época 1, Perda: 3.4808\n",
      "Época 2, Perda: 3.0992\n",
      "Época 3, Perda: 2.2949\n",
      "Época 4, Perda: 1.7618\n",
      "Época 5, Perda: 1.1620\n",
      "Época 6, Perda: 0.8322\n",
      "Época 7, Perda: 0.4554\n",
      "Época 8, Perda: 0.3289\n",
      "Época 9, Perda: 0.2159\n",
      "Época 10, Perda: 0.1434\n",
      "Época 11, Perda: 0.1133\n",
      "Época 12, Perda: 0.1016\n",
      "Época 13, Perda: 0.0750\n",
      "Época 14, Perda: 0.0575\n",
      "Época 15, Perda: 0.0495\n",
      "Época 16, Perda: 0.0424\n",
      "Época 17, Perda: 0.0365\n",
      "Época 18, Perda: 0.0383\n",
      "Época 19, Perda: 0.0334\n",
      "Época 20, Perda: 0.0331\n"
     ]
    }
   ],
   "source": [
    "from torch.utils.data import DataLoader, TensorDataset\n",
    "from transformers import AdamW\n",
    "\n",
    "# Criar dataset e dataloader\n",
    "dataset = TensorDataset(inputs[\"input_ids\"], inputs[\"attention_mask\"], labels_tensor)\n",
    "dataloader = DataLoader(dataset, batch_size=2, shuffle=True)\n",
    "\n",
    "# Definir otimizador\n",
    "optimizer = AdamW(model.parameters(), lr=5e-5)\n",
    "\n",
    "# Mover modelo para GPU se disponível\n",
    "device = torch.device(\"cuda\" if torch.cuda.is_available() else \"cpu\")\n",
    "model.to(device)\n",
    "\n",
    "# Loop de treinamento\n",
    "epochs = 20\n",
    "loss_fn = torch.nn.CrossEntropyLoss()\n",
    "\n",
    "for epoch in range(epochs):\n",
    "    model.train()\n",
    "    total_loss = 0\n",
    "\n",
    "    for batch in dataloader:\n",
    "        input_ids, attention_mask, labels = [b.to(device) for b in batch]\n",
    "\n",
    "        # Zerar gradientes\n",
    "        optimizer.zero_grad()\n",
    "\n",
    "        # Forward pass\n",
    "        outputs = model(input_ids, attention_mask=attention_mask)\n",
    "        loss = loss_fn(outputs.logits, labels)\n",
    "\n",
    "        # Backward pass\n",
    "        loss.backward()\n",
    "        optimizer.step()\n",
    "\n",
    "        total_loss += loss.item()\n",
    "\n",
    "    print(f\"Época {epoch + 1}, Perda: {total_loss:.4f}\")\n",
    "\n"
   ]
  },
  {
   "cell_type": "code",
   "execution_count": 10,
   "metadata": {},
   "outputs": [
    {
     "name": "stdout",
     "output_type": "stream",
     "text": [
      "Texto: O time anunciou um novo treinador. → Categoria prevista: Esportes\n",
      "Texto: As bolsas de valores caíram drasticamente. → Categoria prevista: Economia\n",
      "Texto: Nova coleção de verão foi apresentada. → Categoria prevista: Moda\n",
      "Texto: O valor do Bitcoin caiu 5% → Categoria prevista: Economia\n",
      "Texto: Trump anuncia medidas protecionistas para o Estado Americano → Categoria prevista: Economia\n",
      "Texto: O Banco Central elevou a taxa de juros para conter a inflação. → Categoria prevista: Economia\n",
      "Texto: Empresas de tecnologia lideram alta no mercado de ações. → Categoria prevista: Economia\n",
      "Texto: O desemprego recuou 2% no último trimestre, segundo o IBGE. → Categoria prevista: Economia\n",
      "Texto: FMI revisa projeção de crescimento global para baixo. → Categoria prevista: Economia\n",
      "Texto: Governo anuncia pacote de estímulos para pequenas empresas. → Categoria prevista: Economia\n",
      "Texto: Investidores estrangeiros aumentam participação na bolsa brasileira. → Categoria prevista: Economia\n",
      "Texto: Criptomoedas registram volatilidade após regulamentação na Europa. → Categoria prevista: Economia\n",
      "Texto: Novo imposto sobre grandes fortunas entra em debate no Congresso. → Categoria prevista: Economia\n",
      "Texto: Empresas adotam inteligência artificial para otimizar processos financeiros. → Categoria prevista: Moda\n",
      "Texto: Gigante do varejo online reporta lucro recorde no terceiro trimestre. → Categoria prevista: Moda\n",
      "Texto: Setor imobiliário registra alta nas vendas de imóveis de luxo. → Categoria prevista: Economia\n",
      "Texto: País registra superávit comercial acima das expectativas. → Categoria prevista: Economia\n",
      "Texto: Aumento no preço do petróleo pressiona a inflação global. → Categoria prevista: Economia\n",
      "Texto: Reforma tributária avança no Senado após meses de negociação. → Categoria prevista: Economia\n",
      "Texto: Startup fintech capta R$ 200 milhões em nova rodada de investimentos. → Categoria prevista: Moda\n",
      "Texto: O Banco Central elevou a taxa de juros para conter a inflação. → Categoria prevista: Economia\n",
      "Texto: Empresas de tecnologia lideram alta no mercado de ações. → Categoria prevista: Economia\n",
      "Texto: O desemprego recuou 2% no último trimestre, segundo o IBGE. → Categoria prevista: Economia\n",
      "Texto: FMI revisa projeção de crescimento global para baixo. → Categoria prevista: Economia\n",
      "Texto: Governo anuncia pacote de estímulos para pequenas empresas. → Categoria prevista: Economia\n",
      "Texto: Investidores estrangeiros aumentam participação na bolsa brasileira. → Categoria prevista: Economia\n",
      "Texto: Criptomoedas registram volatilidade após regulamentação na Europa. → Categoria prevista: Economia\n",
      "Texto: Novo imposto sobre grandes fortunas entra em debate no Congresso. → Categoria prevista: Economia\n",
      "Texto: Empresas adotam inteligência artificial para otimizar processos financeiros. → Categoria prevista: Moda\n",
      "Texto: Gigante do varejo online reporta lucro recorde no terceiro trimestre. → Categoria prevista: Moda\n",
      "Texto: Setor imobiliário registra alta nas vendas de imóveis de luxo. → Categoria prevista: Economia\n",
      "Texto: País registra superávit comercial acima das expectativas. → Categoria prevista: Economia\n",
      "Texto: Aumento no preço do petróleo pressiona a inflação global. → Categoria prevista: Economia\n",
      "Texto: Reforma tributária avança no Senado após meses de negociação. → Categoria prevista: Economia\n",
      "Texto: Startup fintech capta R$ 200 milhões em nova rodada de investimentos. → Categoria prevista: Moda\n",
      "\n",
      "Número de acertos: 27/35 (77.14%)\n"
     ]
    }
   ],
   "source": [
    "# Texto de teste\n",
    "novos_textos += [\n",
    "    \"O Banco Central elevou a taxa de juros para conter a inflação.\",\n",
    "    \"Empresas de tecnologia lideram alta no mercado de ações.\",\n",
    "    \"O desemprego recuou 2% no último trimestre, segundo o IBGE.\",\n",
    "    \"FMI revisa projeção de crescimento global para baixo.\",\n",
    "    \"Governo anuncia pacote de estímulos para pequenas empresas.\",\n",
    "    \"Investidores estrangeiros aumentam participação na bolsa brasileira.\",\n",
    "    \"Criptomoedas registram volatilidade após regulamentação na Europa.\",\n",
    "    \"Novo imposto sobre grandes fortunas entra em debate no Congresso.\",\n",
    "    \"Empresas adotam inteligência artificial para otimizar processos financeiros.\",\n",
    "    \"Gigante do varejo online reporta lucro recorde no terceiro trimestre.\",\n",
    "    \"Setor imobiliário registra alta nas vendas de imóveis de luxo.\",\n",
    "    \"País registra superávit comercial acima das expectativas.\",\n",
    "    \"Aumento no preço do petróleo pressiona a inflação global.\",\n",
    "    \"Reforma tributária avança no Senado após meses de negociação.\",\n",
    "    \"Startup fintech capta R$ 200 milhões em nova rodada de investimentos.\"\n",
    "]\n",
    "\n",
    "# Lista de rótulos verdadeiros (substitua pelos rótulos reais)\n",
    "rotulos_reais = [\"Economia\"] * len(novos_textos)  # Todos os textos são de economia\n",
    "\n",
    "# Tokenizar\n",
    "inputs_teste = tokenizer(novos_textos, padding=True, truncation=True, return_tensors=\"pt\").to(device)\n",
    "\n",
    "# Rodar no modelo\n",
    "model.eval()\n",
    "with torch.no_grad():\n",
    "    outputs = model(**inputs_teste)\n",
    "\n",
    "# Obter rótulos previstos\n",
    "predicoes = torch.argmax(outputs.logits, dim=1).cpu().numpy()\n",
    "\n",
    "# Mapear rótulos para categorias\n",
    "categorias = [\"Esportes\", \"Economia\", \"Moda\"]\n",
    "resultados = [categorias[p] for p in predicoes]\n",
    "\n",
    "# Calcular número de acertos\n",
    "acertos = sum(1 for p, r in zip(resultados, rotulos_reais) if p == r)\n",
    "total = len(novos_textos)\n",
    "precisao = acertos / total * 100  # Porcentagem de acertos\n",
    "\n",
    "# Mostrar resultados\n",
    "for texto, categoria in zip(novos_textos, resultados):\n",
    "    print(f\"Texto: {texto} → Categoria prevista: {categoria}\")\n",
    "\n",
    "print(f\"\\nNúmero de acertos: {acertos}/{total} ({precisao:.2f}%)\")"
   ]
  }
 ],
 "metadata": {
  "kernelspec": {
   "display_name": "Python 3",
   "language": "python",
   "name": "python3"
  },
  "language_info": {
   "codemirror_mode": {
    "name": "ipython",
    "version": 3
   },
   "file_extension": ".py",
   "mimetype": "text/x-python",
   "name": "python",
   "nbconvert_exporter": "python",
   "pygments_lexer": "ipython3",
   "version": "3.11.9"
  }
 },
 "nbformat": 4,
 "nbformat_minor": 2
}
